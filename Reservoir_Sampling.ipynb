{
  "nbformat": 4,
  "nbformat_minor": 0,
  "metadata": {
    "colab": {
      "provenance": []
    },
    "kernelspec": {
      "name": "python3",
      "display_name": "Python 3"
    },
    "language_info": {
      "name": "python"
    }
  },
  "cells": [
    {
      "cell_type": "markdown",
      "source": [
        "# **Data Stream**"
      ],
      "metadata": {
        "id": "p86Oxb8zPcAF"
      }
    },
    {
      "cell_type": "markdown",
      "source": [
        "Selecting Database for project"
      ],
      "metadata": {
        "id": "i5VHLYbi5RbB"
      }
    },
    {
      "cell_type": "code",
      "source": [
        "import pandas as pd\n",
        "import random\n",
        "import numpy as np"
      ],
      "metadata": {
        "id": "JQfyGbfcKgOh"
      },
      "execution_count": 10,
      "outputs": []
    },
    {
      "cell_type": "code",
      "source": [
        "dataset = pd.read_csv('train.csv')"
      ],
      "metadata": {
        "id": "Hg6vlT5_PyRl"
      },
      "execution_count": 11,
      "outputs": []
    },
    {
      "cell_type": "markdown",
      "source": [
        "--------------------------"
      ],
      "metadata": {
        "id": "eT95Y5XE4bDR"
      }
    },
    {
      "cell_type": "markdown",
      "source": [
        "# Reservoir Sampling for **Data Stream**\n"
      ],
      "metadata": {
        "id": "NnahhMwOKS2j"
      }
    },
    {
      "cell_type": "code",
      "source": [
        "stream = []\n",
        "for i in range(len(dataset)):\n",
        "  stream.append(i)\n"
      ],
      "metadata": {
        "id": "cgO93N_yQMpd"
      },
      "execution_count": 12,
      "outputs": []
    },
    {
      "cell_type": "code",
      "source": [
        "def reservoir_sampling(dataset, samples):\n",
        "  return dataset.sample(n = samples, random_state=1)"
      ],
      "metadata": {
        "id": "XbIwTo_NZiX-"
      },
      "execution_count": 13,
      "outputs": []
    },
    {
      "cell_type": "code",
      "source": [
        "def reservoir(dataset, samples):\n",
        "  stream = []\n",
        "  for i in range(len(dataset)):\n",
        "    stream.append(i)\n",
        "\n",
        "  i = 0\n",
        "  size = len(dataset)\n",
        "\n",
        "  reservoir = [0] * samples\n",
        "  for i in range(samples):\n",
        "    reservoir[i] = stream[i]\n",
        "\n",
        "  while i < size:\n",
        "    j = random.randrange(i + 1)\n",
        "    if j < samples:\n",
        "      reservoir[j] = stream[i]\n",
        "    i += 1\n",
        "\n",
        "  return dataset.iloc[reservoir]\n",
        "\n"
      ],
      "metadata": {
        "id": "lhi9A8KpQ42D"
      },
      "execution_count": 14,
      "outputs": []
    },
    {
      "cell_type": "markdown",
      "source": [
        "------------------------"
      ],
      "metadata": {
        "id": "zy4JGsqO4rB4"
      }
    },
    {
      "cell_type": "markdown",
      "source": [
        "# Structural Test"
      ],
      "metadata": {
        "id": "Y396sa884v3X"
      }
    },
    {
      "cell_type": "code",
      "source": [
        "# Shape of dataset (limited to 10 samples)\n",
        "df_reservoir = reservoir(dataset, 10)\n",
        "df_reservoir.shape"
      ],
      "metadata": {
        "colab": {
          "base_uri": "https://localhost:8080/"
        },
        "id": "wlbJXvcoMezq",
        "outputId": "58e6f9a8-9570-49c5-ce53-81fe13669123"
      },
      "execution_count": 15,
      "outputs": [
        {
          "output_type": "execute_result",
          "data": {
            "text/plain": [
              "(10, 9)"
            ]
          },
          "metadata": {},
          "execution_count": 15
        }
      ]
    },
    {
      "cell_type": "code",
      "source": [
        "# 10 random logs\n",
        "print(df_reservoir)"
      ],
      "metadata": {
        "colab": {
          "base_uri": "https://localhost:8080/"
        },
        "id": "FIMBOp731-iq",
        "outputId": "ea7004eb-26f8-4491-e8b2-c49b1dcc61ef"
      },
      "execution_count": 16,
      "outputs": [
        {
          "output_type": "stream",
          "name": "stdout",
          "text": [
            "      longitude  latitude  housing_median_age  total_rooms  total_bedrooms  \\\n",
            "321     -121.73     37.68                17.0      20354.0          3493.0   \n",
            "125     -118.19     33.93                42.0       1829.0           391.0   \n",
            "1039    -119.31     36.39                32.0       2293.0           466.0   \n",
            "689     -117.70     33.68                29.0       5650.0          1084.0   \n",
            "2488    -121.90     37.35                52.0       1034.0           239.0   \n",
            "115     -118.85     34.17                42.0        564.0            96.0   \n",
            "739     -121.07     39.20                45.0        204.0            62.0   \n",
            "2898    -117.27     34.16                32.0       2894.0           427.0   \n",
            "1162    -118.42     34.02                26.0       2664.0           842.0   \n",
            "2265    -117.14     32.71                32.0        719.0           251.0   \n",
            "\n",
            "      population  households  median_income  median_house_value  \n",
            "321       8768.0      3293.0         5.4496            238900.0  \n",
            "125       1614.0       377.0         3.1912            146400.0  \n",
            "1039      1538.0       468.0         1.9342             68600.0  \n",
            "689       3985.0      1056.0         2.8192            162500.0  \n",
            "2488       531.0       223.0         2.7411            227100.0  \n",
            "115        220.0        81.0         4.5625            318800.0  \n",
            "739        133.0        51.0         1.0000             90600.0  \n",
            "2898      1151.0       446.0         6.2236            159700.0  \n",
            "1162      1745.0       789.0         3.4269            301900.0  \n",
            "2265       894.0       208.0         1.8456            103100.0  \n"
          ]
        }
      ]
    }
  ]
}